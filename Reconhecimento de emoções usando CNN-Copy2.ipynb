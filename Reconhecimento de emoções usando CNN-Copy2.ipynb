{
 "cells": [
  {
   "cell_type": "markdown",
   "id": "cc49fdd6",
   "metadata": {},
   "source": [
    "# Importações"
   ]
  },
  {
   "cell_type": "code",
   "execution_count": 1,
   "id": "ad41d590",
   "metadata": {},
   "outputs": [],
   "source": [
    "import sys\n",
    "path_to_module = 'c:/users/thiag/documents/ia_ufc/venv/lib/site-packages'\n",
    "sys.path.append(path_to_module)\n",
    "import cv2\n",
    "from keras.models import Sequential\n",
    "from keras.layers import Conv2D, MaxPooling2D, Dense, Dropout, Flatten\n",
    "from keras.optimizers import Adam\n",
    "from keras.preprocessing.image import ImageDataGenerator"
   ]
  },
  {
   "cell_type": "markdown",
   "id": "1d8d8b56",
   "metadata": {},
   "source": [
    "# Inicializando o gerador de imagens para fazer o pré-processamento"
   ]
  },
  {
   "cell_type": "code",
   "execution_count": 2,
   "id": "87d0c855",
   "metadata": {},
   "outputs": [],
   "source": [
    "train_data_gen = ImageDataGenerator(rescale=1./255)\n",
    "validation_data_gen = ImageDataGenerator(rescale=1./255)"
   ]
  },
  {
   "cell_type": "code",
   "execution_count": 3,
   "id": "81d56242",
   "metadata": {},
   "outputs": [
    {
     "name": "stdout",
     "output_type": "stream",
     "text": [
      "Found 5712 images belonging to 4 classes.\n"
     ]
    }
   ],
   "source": [
    "# pre-processamento das imagens de treino\n",
    "train_generator = train_data_gen.flow_from_directory(\n",
    "        'data2/train',\n",
    "        target_size=(48, 48),\n",
    "        batch_size=64,\n",
    "        color_mode=\"grayscale\",\n",
    "        class_mode='categorical',\n",
    "        seed = 42)"
   ]
  },
  {
   "cell_type": "code",
   "execution_count": 4,
   "id": "7ec9626e",
   "metadata": {},
   "outputs": [
    {
     "name": "stdout",
     "output_type": "stream",
     "text": [
      "Found 1311 images belonging to 4 classes.\n"
     ]
    }
   ],
   "source": [
    "# pre-processamento das imagens de treino\n",
    "validation_generator = validation_data_gen.flow_from_directory(\n",
    "        'data2/test',\n",
    "        target_size=(48, 48),\n",
    "        batch_size=64,\n",
    "        color_mode=\"grayscale\",\n",
    "        class_mode='categorical',\n",
    "        seed = 42)"
   ]
  },
  {
   "cell_type": "markdown",
   "id": "1bed04cb",
   "metadata": {},
   "source": [
    "## Classes do modelo"
   ]
  },
  {
   "cell_type": "code",
   "execution_count": 5,
   "id": "f9ff3290",
   "metadata": {},
   "outputs": [
    {
     "data": {
      "text/plain": [
       "{'glioma': 0, 'meningioma': 1, 'notumor': 2, 'pituitary': 3}"
      ]
     },
     "execution_count": 5,
     "metadata": {},
     "output_type": "execute_result"
    }
   ],
   "source": [
    "classes = train_generator.class_indices\n",
    "classes"
   ]
  },
  {
   "cell_type": "markdown",
   "id": "5525cf77",
   "metadata": {},
   "source": [
    "# Criando a estrutura do modelo"
   ]
  },
  {
   "cell_type": "code",
   "execution_count": 6,
   "id": "75db2ba9",
   "metadata": {},
   "outputs": [],
   "source": [
    "emotion_model = Sequential()\n",
    "\n",
    "emotion_model.add(Conv2D(32, kernel_size=(3, 3), activation='relu', input_shape=(48, 48, 1)))\n",
    "emotion_model.add(Conv2D(64, kernel_size=(3, 3), activation='relu'))\n",
    "emotion_model.add(MaxPooling2D(pool_size=(2, 2)))\n",
    "emotion_model.add(Dropout(0.25))\n",
    "\n",
    "emotion_model.add(Conv2D(128, kernel_size=(3, 3), activation='relu'))\n",
    "emotion_model.add(MaxPooling2D(pool_size=(2, 2)))\n",
    "emotion_model.add(Conv2D(128, kernel_size=(3, 3), activation='relu'))\n",
    "emotion_model.add(MaxPooling2D(pool_size=(2, 2)))\n",
    "emotion_model.add(Dropout(0.25))"
   ]
  },
  {
   "cell_type": "markdown",
   "id": "cbcc8027",
   "metadata": {},
   "source": [
    "Definição do modelo sequencial. Inicialmente são aplicados nas imagens um layer de convolução, seguido de um layer de Pooling cujo máximo é extraído. Ao repertirmos o processo algumas vezes, obtemos matrizes que resumem as propriedades gerais das imagens para serem utilizadas na rede neural."
   ]
  },
  {
   "cell_type": "code",
   "execution_count": 7,
   "id": "c2a2799e",
   "metadata": {},
   "outputs": [
    {
     "name": "stdout",
     "output_type": "stream",
     "text": [
      "Model: \"sequential\"\n",
      "_________________________________________________________________\n",
      " Layer (type)                Output Shape              Param #   \n",
      "=================================================================\n",
      " conv2d (Conv2D)             (None, 46, 46, 32)        320       \n",
      "                                                                 \n",
      " conv2d_1 (Conv2D)           (None, 44, 44, 64)        18496     \n",
      "                                                                 \n",
      " max_pooling2d (MaxPooling2D  (None, 22, 22, 64)       0         \n",
      " )                                                               \n",
      "                                                                 \n",
      " dropout (Dropout)           (None, 22, 22, 64)        0         \n",
      "                                                                 \n",
      " conv2d_2 (Conv2D)           (None, 20, 20, 128)       73856     \n",
      "                                                                 \n",
      " max_pooling2d_1 (MaxPooling  (None, 10, 10, 128)      0         \n",
      " 2D)                                                             \n",
      "                                                                 \n",
      " conv2d_3 (Conv2D)           (None, 8, 8, 128)         147584    \n",
      "                                                                 \n",
      " max_pooling2d_2 (MaxPooling  (None, 4, 4, 128)        0         \n",
      " 2D)                                                             \n",
      "                                                                 \n",
      " dropout_1 (Dropout)         (None, 4, 4, 128)         0         \n",
      "                                                                 \n",
      "=================================================================\n",
      "Total params: 240,256\n",
      "Trainable params: 240,256\n",
      "Non-trainable params: 0\n",
      "_________________________________________________________________\n"
     ]
    }
   ],
   "source": [
    "emotion_model.summary()"
   ]
  },
  {
   "cell_type": "code",
   "execution_count": 8,
   "id": "6f7ddaf6",
   "metadata": {},
   "outputs": [],
   "source": [
    "emotion_model.add(Flatten())\n",
    "emotion_model.add(Dense(1024, activation='relu'))\n",
    "emotion_model.add(Dropout(0.5))\n",
    "emotion_model.add(Dense(4, activation='softmax'))"
   ]
  },
  {
   "cell_type": "markdown",
   "id": "de7c7eb9",
   "metadata": {},
   "source": [
    "Aplainamento do modelo e aplicação dos nós densos da rede."
   ]
  },
  {
   "cell_type": "code",
   "execution_count": 9,
   "id": "52b14cb3",
   "metadata": {},
   "outputs": [
    {
     "name": "stdout",
     "output_type": "stream",
     "text": [
      "Model: \"sequential\"\n",
      "_________________________________________________________________\n",
      " Layer (type)                Output Shape              Param #   \n",
      "=================================================================\n",
      " conv2d (Conv2D)             (None, 46, 46, 32)        320       \n",
      "                                                                 \n",
      " conv2d_1 (Conv2D)           (None, 44, 44, 64)        18496     \n",
      "                                                                 \n",
      " max_pooling2d (MaxPooling2D  (None, 22, 22, 64)       0         \n",
      " )                                                               \n",
      "                                                                 \n",
      " dropout (Dropout)           (None, 22, 22, 64)        0         \n",
      "                                                                 \n",
      " conv2d_2 (Conv2D)           (None, 20, 20, 128)       73856     \n",
      "                                                                 \n",
      " max_pooling2d_1 (MaxPooling  (None, 10, 10, 128)      0         \n",
      " 2D)                                                             \n",
      "                                                                 \n",
      " conv2d_3 (Conv2D)           (None, 8, 8, 128)         147584    \n",
      "                                                                 \n",
      " max_pooling2d_2 (MaxPooling  (None, 4, 4, 128)        0         \n",
      " 2D)                                                             \n",
      "                                                                 \n",
      " dropout_1 (Dropout)         (None, 4, 4, 128)         0         \n",
      "                                                                 \n",
      " flatten (Flatten)           (None, 2048)              0         \n",
      "                                                                 \n",
      " dense (Dense)               (None, 1024)              2098176   \n",
      "                                                                 \n",
      " dropout_2 (Dropout)         (None, 1024)              0         \n",
      "                                                                 \n",
      " dense_1 (Dense)             (None, 4)                 4100      \n",
      "                                                                 \n",
      "=================================================================\n",
      "Total params: 2,342,532\n",
      "Trainable params: 2,342,532\n",
      "Non-trainable params: 0\n",
      "_________________________________________________________________\n"
     ]
    }
   ],
   "source": [
    "emotion_model.summary()"
   ]
  },
  {
   "cell_type": "code",
   "execution_count": 10,
   "id": "c90d3d3e",
   "metadata": {},
   "outputs": [],
   "source": [
    "cv2.ocl.setUseOpenCL(False)\n",
    "\n",
    "emotion_model.compile(loss='categorical_crossentropy', optimizer=Adam(learning_rate=0.0001, decay=1e-6), metrics=['accuracy'])"
   ]
  },
  {
   "cell_type": "code",
   "execution_count": 11,
   "id": "2a258145",
   "metadata": {},
   "outputs": [
    {
     "name": "stderr",
     "output_type": "stream",
     "text": [
      "C:\\Users\\thiag\\AppData\\Local\\Temp/ipykernel_27576/4182443564.py:1: UserWarning: `Model.fit_generator` is deprecated and will be removed in a future version. Please use `Model.fit`, which supports generators.\n",
      "  emotion_model_info = emotion_model.fit_generator(\n"
     ]
    },
    {
     "name": "stdout",
     "output_type": "stream",
     "text": [
      "Epoch 1/30\n",
      "89/89 [==============================] - 49s 536ms/step - loss: 1.2330 - accuracy: 0.3800 - val_loss: 1.1152 - val_accuracy: 0.5672\n",
      "Epoch 2/30\n",
      "89/89 [==============================] - 47s 530ms/step - loss: 0.8143 - accuracy: 0.6817 - val_loss: 0.8273 - val_accuracy: 0.6781\n",
      "Epoch 3/30\n",
      "89/89 [==============================] - 48s 534ms/step - loss: 0.6559 - accuracy: 0.7534 - val_loss: 0.7508 - val_accuracy: 0.6977\n",
      "Epoch 4/30\n",
      "89/89 [==============================] - 66s 748ms/step - loss: 0.5997 - accuracy: 0.7677 - val_loss: 0.6813 - val_accuracy: 0.7250\n",
      "Epoch 5/30\n",
      "89/89 [==============================] - 50s 559ms/step - loss: 0.5413 - accuracy: 0.7962 - val_loss: 0.6760 - val_accuracy: 0.7305\n",
      "Epoch 6/30\n",
      "89/89 [==============================] - 50s 560ms/step - loss: 0.5064 - accuracy: 0.8106 - val_loss: 0.5905 - val_accuracy: 0.7656\n",
      "Epoch 7/30\n",
      "89/89 [==============================] - 51s 572ms/step - loss: 0.4717 - accuracy: 0.8205 - val_loss: 0.5642 - val_accuracy: 0.7664\n",
      "Epoch 8/30\n",
      "89/89 [==============================] - 52s 581ms/step - loss: 0.4417 - accuracy: 0.8375 - val_loss: 0.5438 - val_accuracy: 0.7797\n",
      "Epoch 9/30\n",
      "89/89 [==============================] - 53s 595ms/step - loss: 0.4212 - accuracy: 0.8426 - val_loss: 0.4885 - val_accuracy: 0.8016\n",
      "Epoch 10/30\n",
      "89/89 [==============================] - 58s 651ms/step - loss: 0.3944 - accuracy: 0.8530 - val_loss: 0.4904 - val_accuracy: 0.8055\n",
      "Epoch 11/30\n",
      "89/89 [==============================] - 55s 619ms/step - loss: 0.3744 - accuracy: 0.8631 - val_loss: 0.4397 - val_accuracy: 0.8078\n",
      "Epoch 12/30\n",
      "89/89 [==============================] - 57s 634ms/step - loss: 0.3550 - accuracy: 0.8607 - val_loss: 0.4144 - val_accuracy: 0.8258\n",
      "Epoch 13/30\n",
      "89/89 [==============================] - 55s 621ms/step - loss: 0.3296 - accuracy: 0.8777 - val_loss: 0.4353 - val_accuracy: 0.8219\n",
      "Epoch 14/30\n",
      "89/89 [==============================] - 56s 623ms/step - loss: 0.3152 - accuracy: 0.8847 - val_loss: 0.3721 - val_accuracy: 0.8508\n",
      "Epoch 15/30\n",
      "89/89 [==============================] - 55s 620ms/step - loss: 0.3144 - accuracy: 0.8847 - val_loss: 0.3606 - val_accuracy: 0.8555\n",
      "Epoch 16/30\n",
      "89/89 [==============================] - 56s 627ms/step - loss: 0.2905 - accuracy: 0.8947 - val_loss: 0.3630 - val_accuracy: 0.8633\n",
      "Epoch 17/30\n",
      "89/89 [==============================] - 56s 624ms/step - loss: 0.2721 - accuracy: 0.8993 - val_loss: 0.3328 - val_accuracy: 0.8641\n",
      "Epoch 18/30\n",
      "89/89 [==============================] - 56s 627ms/step - loss: 0.2628 - accuracy: 0.9016 - val_loss: 0.3237 - val_accuracy: 0.8695\n",
      "Epoch 19/30\n",
      "89/89 [==============================] - 55s 621ms/step - loss: 0.2559 - accuracy: 0.9078 - val_loss: 0.3266 - val_accuracy: 0.8687\n",
      "Epoch 20/30\n",
      "89/89 [==============================] - 55s 619ms/step - loss: 0.2369 - accuracy: 0.9138 - val_loss: 0.3093 - val_accuracy: 0.8805\n",
      "Epoch 21/30\n",
      "89/89 [==============================] - 56s 625ms/step - loss: 0.2247 - accuracy: 0.9193 - val_loss: 0.2904 - val_accuracy: 0.8844\n",
      "Epoch 22/30\n",
      "89/89 [==============================] - 57s 638ms/step - loss: 0.2146 - accuracy: 0.9244 - val_loss: 0.2463 - val_accuracy: 0.9078\n",
      "Epoch 23/30\n",
      "89/89 [==============================] - 55s 621ms/step - loss: 0.2063 - accuracy: 0.9239 - val_loss: 0.2600 - val_accuracy: 0.9008\n",
      "Epoch 24/30\n",
      "89/89 [==============================] - 55s 622ms/step - loss: 0.2010 - accuracy: 0.9290 - val_loss: 0.2445 - val_accuracy: 0.9047\n",
      "Epoch 25/30\n",
      "89/89 [==============================] - 55s 617ms/step - loss: 0.1868 - accuracy: 0.9308 - val_loss: 0.2218 - val_accuracy: 0.9164\n",
      "Epoch 26/30\n",
      "89/89 [==============================] - 55s 621ms/step - loss: 0.1887 - accuracy: 0.9320 - val_loss: 0.2497 - val_accuracy: 0.9031\n",
      "Epoch 27/30\n",
      "89/89 [==============================] - 55s 617ms/step - loss: 0.1775 - accuracy: 0.9384 - val_loss: 0.2442 - val_accuracy: 0.9047\n",
      "Epoch 28/30\n",
      "89/89 [==============================] - 56s 631ms/step - loss: 0.1666 - accuracy: 0.9425 - val_loss: 0.1915 - val_accuracy: 0.9320\n",
      "Epoch 29/30\n",
      "89/89 [==============================] - 55s 618ms/step - loss: 0.1561 - accuracy: 0.9464 - val_loss: 0.2035 - val_accuracy: 0.9242\n",
      "Epoch 30/30\n",
      "89/89 [==============================] - 55s 615ms/step - loss: 0.1496 - accuracy: 0.9508 - val_loss: 0.1828 - val_accuracy: 0.9305\n"
     ]
    }
   ],
   "source": [
    "emotion_model_info = emotion_model.fit_generator(\n",
    "        train_generator,\n",
    "        steps_per_epoch=5712 // 64,\n",
    "        epochs=30,\n",
    "        validation_data=validation_generator,\n",
    "        validation_steps=1311 // 64)"
   ]
  },
  {
   "cell_type": "code",
   "execution_count": 12,
   "id": "c0bcb5c4",
   "metadata": {},
   "outputs": [
    {
     "data": {
      "image/png": "[encoded data removed]",
      "text/plain": [
       "<Figure size 432x288 with 1 Axes>"
      ]
     },
     "metadata": {
      "needs_background": "light"
     },
     "output_type": "display_data"
    },
    {
     "data": {
      "image/png": "[encoded data removed]",
      "text/plain": [
       "<Figure size 432x288 with 1 Axes>"
      ]
     },
     "metadata": {
      "needs_background": "light"
     },
     "output_type": "display_data"
    }
   ],
   "source": [
    "import matplotlib.pyplot as plt\n",
    "plt.plot(emotion_model_info.history['accuracy'])\n",
    "plt.plot(emotion_model_info.history['val_accuracy'])\n",
    "plt.title('model accuracy')\n",
    "plt.ylabel('accuracy')\n",
    "plt.xlabel('epoch')\n",
    "plt.legend(['train', 'validation'], loc='upper left')\n",
    "plt.show()\n",
    "# \"Loss\"\n",
    "plt.plot(emotion_model_info.history['loss'])\n",
    "plt.plot(emotion_model_info.history['val_loss'])\n",
    "plt.title('model loss')\n",
    "plt.ylabel('loss')\n",
    "plt.xlabel('epoch')\n",
    "plt.legend(['train', 'validation'], loc='upper left')\n",
    "plt.show()"
   ]
  },
  {
   "cell_type": "markdown",
   "id": "7b799538",
   "metadata": {},
   "source": [
    "# Salvando modelo gerado"
   ]
  },
  {
   "cell_type": "code",
   "execution_count": 13,
   "id": "7b356a4f",
   "metadata": {},
   "outputs": [],
   "source": [
    "model_json = emotion_model.to_json()\n",
    "with open(\"emotion_model.json2\", \"w\") as json_file:\n",
    "    json_file.write(model_json)\n",
    "\n",
    "# save trained model weight in .h5 file\n",
    "emotion_model.save_weights('emotion_model2.h5')"
   ]
  },
  {
   "cell_type": "code",
   "execution_count": null,
   "id": "1757c45c",
   "metadata": {},
   "outputs": [],
   "source": []
  }
 ],
 "metadata": {
  "kernelspec": {
   "display_name": "venv",
   "language": "python",
   "name": "venv"
  },
  "language_info": {
   "codemirror_mode": {
    "name": "ipython",
    "version": 3
   },
   "file_extension": ".py",
   "mimetype": "text/x-python",
   "name": "python",
   "nbconvert_exporter": "python",
   "pygments_lexer": "ipython3",
   "version": "3.9.7"
  }
 },
 "nbformat": 4,
 "nbformat_minor": 5
}
