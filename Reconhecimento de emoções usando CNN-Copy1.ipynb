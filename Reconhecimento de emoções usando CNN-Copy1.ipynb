{
 "cells": [
  {
   "cell_type": "markdown",
   "id": "cc49fdd6",
   "metadata": {},
   "source": [
    "# Importações"
   ]
  },
  {
   "cell_type": "code",
   "execution_count": 4,
   "id": "ad41d590",
   "metadata": {},
   "outputs": [],
   "source": [
    "import sys\n",
    "path_to_module = 'c:/users/thiag/documents/ia_ufc/venv/lib/site-packages'\n",
    "sys.path.append(path_to_module)\n",
    "import cv2\n",
    "from tensorflow.keras.preprocessing import image_dataset_from_directory\n",
    "from tensorflow.keras  import layers\n",
    "from keras.models import Sequential\n",
    "from keras.layers import Conv2D, MaxPooling2D, Dense, Dropout, Flatten\n",
    "from keras.optimizers import Adam\n",
    "from keras.preprocessing.image import ImageDataGenerator"
   ]
  },
  {
   "cell_type": "markdown",
   "id": "1d8d8b56",
   "metadata": {},
   "source": [
    "# Inicializando o gerador de imagens para fazer o pré-processamento"
   ]
  },
  {
   "cell_type": "code",
   "execution_count": 5,
   "id": "87d0c855",
   "metadata": {},
   "outputs": [],
   "source": [
    "train_data_gen = ImageDataGenerator(rescale=1./255)\n",
    "validation_data_gen = ImageDataGenerator(rescale=1./255)"
   ]
  },
  {
   "cell_type": "code",
   "execution_count": 6,
   "id": "81d56242",
   "metadata": {},
   "outputs": [
    {
     "name": "stdout",
     "output_type": "stream",
     "text": [
      "Found 392 files belonging to 2 classes.\n",
      "Using 314 files for training.\n"
     ]
    }
   ],
   "source": [
    "# pre-processamento das imagens de treino\n",
    "train_generator = image_dataset_from_directory(\n",
    "    'data2/',\n",
    "    validation_split=0.2,\n",
    "    subset=\"training\",\n",
    "    image_size=(48,48),\n",
    "    batch_size=32,\n",
    "    label_mode=\"categorical\",\n",
    "    seed = 42,\n",
    ")\n",
    "     "
   ]
  },
  {
   "cell_type": "code",
   "execution_count": 7,
   "id": "7ec9626e",
   "metadata": {},
   "outputs": [
    {
     "name": "stdout",
     "output_type": "stream",
     "text": [
      "Found 392 files belonging to 2 classes.\n",
      "Using 78 files for validation.\n"
     ]
    }
   ],
   "source": [
    "# pre-processamento das imagens de treino\n",
    "validation_generator =  image_dataset_from_directory(\n",
    "    'data2/',\n",
    "    validation_split=0.2,\n",
    "    subset=\"validation\",\n",
    "    image_size=(48,48),\n",
    "    batch_size=32,\n",
    "    label_mode=\"categorical\",\n",
    "    seed = 42,\n",
    ")"
   ]
  },
  {
   "cell_type": "markdown",
   "id": "1bed04cb",
   "metadata": {},
   "source": [
    "## Classes do modelo"
   ]
  },
  {
   "cell_type": "code",
   "execution_count": 8,
   "id": "f9ff3290",
   "metadata": {},
   "outputs": [
    {
     "data": {
      "text/plain": [
       "['Covid', 'Normal']"
      ]
     },
     "execution_count": 8,
     "metadata": {},
     "output_type": "execute_result"
    }
   ],
   "source": [
    "classes = train_generator.class_names\n",
    "classes"
   ]
  },
  {
   "cell_type": "markdown",
   "id": "5525cf77",
   "metadata": {},
   "source": [
    "# Criando a estrutura do modelo"
   ]
  },
  {
   "cell_type": "code",
   "execution_count": 10,
   "id": "75db2ba9",
   "metadata": {},
   "outputs": [
    {
     "name": "stdout",
     "output_type": "stream",
     "text": [
      "WARNING:tensorflow:From c:\\users/thiag/documents/ia_ufc/venv/lib/site-packages\\tensorflow\\python\\autograph\\pyct\\static_analysis\\liveness.py:83: Analyzer.lamba_check (from tensorflow.python.autograph.pyct.static_analysis.liveness) is deprecated and will be removed after 2023-09-23.\n",
      "Instructions for updating:\n",
      "Lambda fuctions will be no more assumed to be used in the statement where they are used, or at least in the same block. https://github.com/tensorflow/tensorflow/issues/56089\n",
      "WARNING:tensorflow:Using a while_loop for converting RngReadAndSkip cause there is no registered converter for this op.\n",
      "WARNING:tensorflow:Using a while_loop for converting Bitcast cause there is no registered converter for this op.\n",
      "WARNING:tensorflow:Using a while_loop for converting Bitcast cause there is no registered converter for this op.\n",
      "WARNING:tensorflow:Using a while_loop for converting StatelessRandomUniformV2 cause there is no registered converter for this op.\n",
      "WARNING:tensorflow:Using a while_loop for converting ImageProjectiveTransformV3 cause there is no registered converter for this op.\n",
      "WARNING:tensorflow:Using a while_loop for converting RngReadAndSkip cause there is no registered converter for this op.\n",
      "WARNING:tensorflow:Using a while_loop for converting Bitcast cause there is no registered converter for this op.\n",
      "WARNING:tensorflow:Using a while_loop for converting Bitcast cause there is no registered converter for this op.\n",
      "WARNING:tensorflow:Using a while_loop for converting StatelessRandomUniformV2 cause there is no registered converter for this op.\n",
      "WARNING:tensorflow:Using a while_loop for converting ImageProjectiveTransformV3 cause there is no registered converter for this op.\n"
     ]
    }
   ],
   "source": [
    "data_augmentation = Sequential([\n",
    "    layers.experimental.preprocessing.RandomFlip('horizontal'),\n",
    "    layers.experimental.preprocessing.RandomRotation(0.2)\n",
    "])\n",
    "\n",
    "augmented_training = train_generator.map(lambda x , y:(data_augmentation(x, training = True), y))\n",
    "\n",
    "augmented_training = augmented_training.prefetch(buffer_size=32)\n",
    "validation_generator = validation_generator.prefetch(buffer_size=32)"
   ]
  },
  {
   "cell_type": "code",
   "execution_count": null,
   "id": "4fcded0b",
   "metadata": {},
   "outputs": [],
   "source": [
    "model = Sequential()\n",
    "\n",
    "model.add(Conv2D(32, (3, 3), activation='relu', input_shape=(48, 48, 3)))\n",
    "\n",
    "model.add(MaxPooling2D((2, 2)))\n",
    "\n",
    "model.add(Conv2D(64, (3, 3), activation='relu'))\n",
    "\n",
    "model.add(MaxPooling2D((2, 2)))\n",
    "\n",
    "model.add(Conv2D(32, (3, 3), activation='relu'))\n",
    "     "
   ]
  },
  {
   "cell_type": "markdown",
   "id": "cbcc8027",
   "metadata": {},
   "source": [
    "Definição do modelo sequencial. Inicialmente são aplicados nas imagens um layer de convolução, seguido de um layer de Pooling cujo máximo é extraído. Ao repertirmos o processo algumas vezes, obtemos matrizes que resumem as propriedades gerais das imagens para serem utilizadas na rede neural."
   ]
  },
  {
   "cell_type": "code",
   "execution_count": null,
   "id": "c2a2799e",
   "metadata": {},
   "outputs": [],
   "source": [
    "emotion_model.summary()"
   ]
  },
  {
   "cell_type": "code",
   "execution_count": null,
   "id": "6f7ddaf6",
   "metadata": {},
   "outputs": [],
   "source": [
    "model.add(Flatten()) # Camada de entrada\n",
    "\n",
    "model.add(Dense(64, activation=\"relu\")) # Camada oculta\n",
    "\n",
    "model.add(Dense(2, activation=\"softmax\")) # Camada de saída, \"softmax\" é utilizada para saídas com muitas classes (array com multiplas probabilidades)"
   ]
  },
  {
   "cell_type": "markdown",
   "id": "de7c7eb9",
   "metadata": {},
   "source": [
    "Aplainamento do modelo e aplicação dos nós densos da rede."
   ]
  },
  {
   "cell_type": "code",
   "execution_count": null,
   "id": "52b14cb3",
   "metadata": {},
   "outputs": [],
   "source": [
    "model.summary()"
   ]
  },
  {
   "cell_type": "code",
   "execution_count": null,
   "id": "c90d3d3e",
   "metadata": {},
   "outputs": [],
   "source": [
    "model.compile(optimizer=\"adam\", loss=\"binary_crossentropy\", metrics=[\"accuracy\"]) # Compilação do modelo; hiperparametros"
   ]
  },
  {
   "cell_type": "code",
   "execution_count": null,
   "id": "2a258145",
   "metadata": {},
   "outputs": [],
   "source": [
    "epochs = 20\n",
    "history = model.fit(augmented_training, epochs=epochs, validation_data=validation)"
   ]
  },
  {
   "cell_type": "code",
   "execution_count": null,
   "id": "c0bcb5c4",
   "metadata": {},
   "outputs": [],
   "source": [
    "import matplotlib.pyplot as plt\n",
    "plt.plot(emotion_model_info.history['accuracy'])\n",
    "plt.plot(emotion_model_info.history['val_accuracy'])\n",
    "plt.title('model accuracy')\n",
    "plt.ylabel('accuracy')\n",
    "plt.xlabel('epoch')\n",
    "plt.legend(['train', 'validation'], loc='upper left')\n",
    "plt.show()\n",
    "# \"Loss\"\n",
    "plt.plot(emotion_model_info.history['loss'])\n",
    "plt.plot(emotion_model_info.history['val_loss'])\n",
    "plt.title('model loss')\n",
    "plt.ylabel('loss')\n",
    "plt.xlabel('epoch')\n",
    "plt.legend(['train', 'validation'], loc='upper left')\n",
    "plt.show()"
   ]
  },
  {
   "cell_type": "code",
   "execution_count": null,
   "id": "4f2d1d06",
   "metadata": {},
   "outputs": [],
   "source": [
    "emotion_model_info.history"
   ]
  },
  {
   "cell_type": "markdown",
   "id": "7b799538",
   "metadata": {},
   "source": [
    "# Salvando modelo gerado"
   ]
  },
  {
   "cell_type": "code",
   "execution_count": null,
   "id": "7b356a4f",
   "metadata": {},
   "outputs": [],
   "source": [
    "model_json = emotion_model.to_json()\n",
    "with open(\"emotion_model.json\", \"w\") as json_file:\n",
    "    json_file.write(model_json)\n",
    "\n",
    "# save trained model weight in .h5 file\n",
    "emotion_model.save_weights('emotion_model.h5')"
   ]
  },
  {
   "cell_type": "code",
   "execution_count": null,
   "id": "1757c45c",
   "metadata": {},
   "outputs": [],
   "source": []
  }
 ],
 "metadata": {
  "kernelspec": {
   "display_name": "venv",
   "language": "python",
   "name": "venv"
  },
  "language_info": {
   "codemirror_mode": {
    "name": "ipython",
    "version": 3
   },
   "file_extension": ".py",
   "mimetype": "text/x-python",
   "name": "python",
   "nbconvert_exporter": "python",
   "pygments_lexer": "ipython3",
   "version": "3.9.7"
  }
 },
 "nbformat": 4,
 "nbformat_minor": 5
}
