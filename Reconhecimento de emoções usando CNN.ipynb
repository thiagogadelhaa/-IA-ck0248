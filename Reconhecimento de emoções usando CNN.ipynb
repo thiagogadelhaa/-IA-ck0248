{
 "cells": [
  {
   "cell_type": "markdown",
   "id": "d480a0ff",
   "metadata": {},
   "source": [
    "# Importações"
   ]
  },
  {
   "cell_type": "code",
   "execution_count": 1,
   "id": "4a5ddbd3",
   "metadata": {},
   "outputs": [],
   "source": [
    "import sys\n",
    "path_to_module = 'c:/users/thiag/documents/ia_ufc/venv/lib/site-packages'\n",
    "sys.path.append(path_to_module)\n",
    "import cv2\n",
    "from keras.models import Sequential\n",
    "from keras.layers import Conv2D, MaxPooling2D, Dense, Dropout, Flatten\n",
    "from keras.optimizers import Adam\n",
    "from keras.preprocessing.image import ImageDataGenerator"
   ]
  },
  {
   "cell_type": "markdown",
   "id": "d7553ee7",
   "metadata": {},
   "source": [
    "# Inicializando o gerador de imagens para fazer o pré-processamento"
   ]
  },
  {
   "cell_type": "code",
   "execution_count": 2,
   "id": "e0a0ed3f",
   "metadata": {},
   "outputs": [],
   "source": [
    "train_data_gen = ImageDataGenerator(rescale=1./255)\n",
    "validation_data_gen = ImageDataGenerator(rescale=1./255)"
   ]
  },
  {
   "cell_type": "code",
   "execution_count": 3,
   "id": "de9e8770",
   "metadata": {},
   "outputs": [
    {
     "name": "stdout",
     "output_type": "stream",
     "text": [
      "Found 28709 images belonging to 7 classes.\n"
     ]
    }
   ],
   "source": [
    "# pre-processamento das imagens de treino\n",
    "train_generator = train_data_gen.flow_from_directory(\n",
    "        'data/train',\n",
    "        target_size=(48, 48),\n",
    "        batch_size=64,\n",
    "        color_mode=\"grayscale\",\n",
    "        class_mode='categorical',\n",
    "        seed = 42)"
   ]
  },
  {
   "cell_type": "code",
   "execution_count": 4,
   "id": "e791c6d4",
   "metadata": {},
   "outputs": [
    {
     "name": "stdout",
     "output_type": "stream",
     "text": [
      "Found 7178 images belonging to 7 classes.\n"
     ]
    }
   ],
   "source": [
    "# pre-processamento das imagens de treino\n",
    "validation_generator = validation_data_gen.flow_from_directory(\n",
    "        'data/test',\n",
    "        target_size=(48, 48),\n",
    "        batch_size=64,\n",
    "        color_mode=\"grayscale\",\n",
    "        class_mode='categorical',\n",
    "        seed = 42)"
   ]
  },
  {
   "cell_type": "markdown",
   "id": "35e7709b",
   "metadata": {},
   "source": [
    "## Classes do modelo"
   ]
  },
  {
   "cell_type": "code",
   "execution_count": 5,
   "id": "a7c34aa9",
   "metadata": {},
   "outputs": [
    {
     "data": {
      "text/plain": [
       "{'angry': 0,\n",
       " 'disgust': 1,\n",
       " 'fear': 2,\n",
       " 'happy': 3,\n",
       " 'neutral': 4,\n",
       " 'sad': 5,\n",
       " 'surprise': 6}"
      ]
     },
     "execution_count": 5,
     "metadata": {},
     "output_type": "execute_result"
    }
   ],
   "source": [
    "classes = train_generator.class_indices\n",
    "classes"
   ]
  },
  {
   "cell_type": "markdown",
   "id": "37c26ace",
   "metadata": {},
   "source": [
    "# Criando a estrutura do modelo"
   ]
  },
  {
   "cell_type": "code",
   "execution_count": 6,
   "id": "b5761765",
   "metadata": {},
   "outputs": [],
   "source": [
    "emotion_model = Sequential()\n",
    "\n",
    "emotion_model.add(Conv2D(32, kernel_size=(3, 3), activation='relu', input_shape=(48, 48, 1)))\n",
    "emotion_model.add(Conv2D(64, kernel_size=(3, 3), activation='relu'))\n",
    "emotion_model.add(MaxPooling2D(pool_size=(2, 2)))\n",
    "emotion_model.add(Dropout(0.25))\n",
    "\n",
    "emotion_model.add(Conv2D(128, kernel_size=(3, 3), activation='relu'))\n",
    "emotion_model.add(MaxPooling2D(pool_size=(2, 2)))\n",
    "emotion_model.add(Conv2D(128, kernel_size=(3, 3), activation='relu'))\n",
    "emotion_model.add(MaxPooling2D(pool_size=(2, 2)))\n",
    "emotion_model.add(Dropout(0.25))"
   ]
  },
  {
   "cell_type": "markdown",
   "id": "75bf9cd2",
   "metadata": {},
   "source": [
    "Definição do modelo sequencial. Inicialmente são aplicados nas imagens um layer de convolução, seguido de um layer de Pooling cujo máximo é extraído. Ao repertirmos o processo algumas vezes, obtemos matrizes que resumem as propriedades gerais das imagens para serem utilizadas na rede neural."
   ]
  },
  {
   "cell_type": "code",
   "execution_count": 7,
   "id": "1de2a9ba",
   "metadata": {},
   "outputs": [
    {
     "name": "stdout",
     "output_type": "stream",
     "text": [
      "Model: \"sequential\"\n",
      "_________________________________________________________________\n",
      " Layer (type)                Output Shape              Param #   \n",
      "=================================================================\n",
      " conv2d (Conv2D)             (None, 46, 46, 32)        320       \n",
      "                                                                 \n",
      " conv2d_1 (Conv2D)           (None, 44, 44, 64)        18496     \n",
      "                                                                 \n",
      " max_pooling2d (MaxPooling2D  (None, 22, 22, 64)       0         \n",
      " )                                                               \n",
      "                                                                 \n",
      " dropout (Dropout)           (None, 22, 22, 64)        0         \n",
      "                                                                 \n",
      " conv2d_2 (Conv2D)           (None, 20, 20, 128)       73856     \n",
      "                                                                 \n",
      " max_pooling2d_1 (MaxPooling  (None, 10, 10, 128)      0         \n",
      " 2D)                                                             \n",
      "                                                                 \n",
      " conv2d_3 (Conv2D)           (None, 8, 8, 128)         147584    \n",
      "                                                                 \n",
      " max_pooling2d_2 (MaxPooling  (None, 4, 4, 128)        0         \n",
      " 2D)                                                             \n",
      "                                                                 \n",
      " dropout_1 (Dropout)         (None, 4, 4, 128)         0         \n",
      "                                                                 \n",
      "=================================================================\n",
      "Total params: 240,256\n",
      "Trainable params: 240,256\n",
      "Non-trainable params: 0\n",
      "_________________________________________________________________\n"
     ]
    }
   ],
   "source": [
    "emotion_model.summary()"
   ]
  },
  {
   "cell_type": "code",
   "execution_count": 8,
   "id": "3085c4f6",
   "metadata": {},
   "outputs": [],
   "source": [
    "emotion_model.add(Flatten())\n",
    "emotion_model.add(Dense(1024, activation='relu'))\n",
    "emotion_model.add(Dropout(0.5))\n",
    "emotion_model.add(Dense(7, activation='softmax'))"
   ]
  },
  {
   "cell_type": "markdown",
   "id": "7365931c",
   "metadata": {},
   "source": [
    "Aplainamento do modelo e aplicação dos nós densos da rede."
   ]
  },
  {
   "cell_type": "code",
   "execution_count": 9,
   "id": "7f0e34ee",
   "metadata": {},
   "outputs": [
    {
     "name": "stdout",
     "output_type": "stream",
     "text": [
      "Model: \"sequential\"\n",
      "_________________________________________________________________\n",
      " Layer (type)                Output Shape              Param #   \n",
      "=================================================================\n",
      " conv2d (Conv2D)             (None, 46, 46, 32)        320       \n",
      "                                                                 \n",
      " conv2d_1 (Conv2D)           (None, 44, 44, 64)        18496     \n",
      "                                                                 \n",
      " max_pooling2d (MaxPooling2D  (None, 22, 22, 64)       0         \n",
      " )                                                               \n",
      "                                                                 \n",
      " dropout (Dropout)           (None, 22, 22, 64)        0         \n",
      "                                                                 \n",
      " conv2d_2 (Conv2D)           (None, 20, 20, 128)       73856     \n",
      "                                                                 \n",
      " max_pooling2d_1 (MaxPooling  (None, 10, 10, 128)      0         \n",
      " 2D)                                                             \n",
      "                                                                 \n",
      " conv2d_3 (Conv2D)           (None, 8, 8, 128)         147584    \n",
      "                                                                 \n",
      " max_pooling2d_2 (MaxPooling  (None, 4, 4, 128)        0         \n",
      " 2D)                                                             \n",
      "                                                                 \n",
      " dropout_1 (Dropout)         (None, 4, 4, 128)         0         \n",
      "                                                                 \n",
      " flatten (Flatten)           (None, 2048)              0         \n",
      "                                                                 \n",
      " dense (Dense)               (None, 1024)              2098176   \n",
      "                                                                 \n",
      " dropout_2 (Dropout)         (None, 1024)              0         \n",
      "                                                                 \n",
      " dense_1 (Dense)             (None, 7)                 7175      \n",
      "                                                                 \n",
      "=================================================================\n",
      "Total params: 2,345,607\n",
      "Trainable params: 2,345,607\n",
      "Non-trainable params: 0\n",
      "_________________________________________________________________\n"
     ]
    }
   ],
   "source": [
    "emotion_model.summary()"
   ]
  },
  {
   "cell_type": "code",
   "execution_count": 10,
   "id": "d7989df1",
   "metadata": {},
   "outputs": [],
   "source": [
    "cv2.ocl.setUseOpenCL(False)\n",
    "\n",
    "emotion_model.compile(loss='categorical_crossentropy', optimizer=Adam(learning_rate=0.0001, decay=1e-6), metrics=['accuracy'])"
   ]
  },
  {
   "cell_type": "code",
   "execution_count": 11,
   "id": "57771734",
   "metadata": {},
   "outputs": [
    {
     "name": "stdout",
     "output_type": "stream",
     "text": [
      "Epoch 1/50\n"
     ]
    },
    {
     "name": "stderr",
     "output_type": "stream",
     "text": [
      "C:\\Users\\thiag\\AppData\\Local\\Temp/ipykernel_10516/1151617337.py:1: UserWarning: `Model.fit_generator` is deprecated and will be removed in a future version. Please use `Model.fit`, which supports generators.\n",
      "  emotion_model_info = emotion_model.fit_generator(\n"
     ]
    },
    {
     "name": "stdout",
     "output_type": "stream",
     "text": [
      "448/448 [==============================] - 207s 460ms/step - loss: 1.8088 - accuracy: 0.2533 - val_loss: 1.7436 - val_accuracy: 0.3040\n",
      "Epoch 2/50\n",
      "448/448 [==============================] - 219s 489ms/step - loss: 1.6489 - accuracy: 0.3573 - val_loss: 1.5659 - val_accuracy: 0.4050\n",
      "Epoch 3/50\n",
      "448/448 [==============================] - 210s 470ms/step - loss: 1.5491 - accuracy: 0.4015 - val_loss: 1.4836 - val_accuracy: 0.4340\n",
      "Epoch 4/50\n",
      "448/448 [==============================] - 210s 468ms/step - loss: 1.4778 - accuracy: 0.4317 - val_loss: 1.4239 - val_accuracy: 0.4607\n",
      "Epoch 5/50\n",
      "448/448 [==============================] - 209s 467ms/step - loss: 1.4138 - accuracy: 0.4594 - val_loss: 1.3577 - val_accuracy: 0.4809\n",
      "Epoch 6/50\n",
      "448/448 [==============================] - 209s 467ms/step - loss: 1.3607 - accuracy: 0.4827 - val_loss: 1.3256 - val_accuracy: 0.4934\n",
      "Epoch 7/50\n",
      "448/448 [==============================] - 208s 465ms/step - loss: 1.3142 - accuracy: 0.5026 - val_loss: 1.2966 - val_accuracy: 0.5071\n",
      "Epoch 8/50\n",
      "448/448 [==============================] - 210s 468ms/step - loss: 1.2752 - accuracy: 0.5184 - val_loss: 1.2628 - val_accuracy: 0.5199\n",
      "Epoch 9/50\n",
      "448/448 [==============================] - 217s 483ms/step - loss: 1.2401 - accuracy: 0.5331 - val_loss: 1.2269 - val_accuracy: 0.5324\n",
      "Epoch 10/50\n",
      "448/448 [==============================] - 211s 471ms/step - loss: 1.2097 - accuracy: 0.5445 - val_loss: 1.2108 - val_accuracy: 0.5432\n",
      "Epoch 11/50\n",
      "448/448 [==============================] - 211s 470ms/step - loss: 1.1807 - accuracy: 0.5558 - val_loss: 1.1904 - val_accuracy: 0.5438\n",
      "Epoch 12/50\n",
      "448/448 [==============================] - 212s 472ms/step - loss: 1.1515 - accuracy: 0.5685 - val_loss: 1.1721 - val_accuracy: 0.5548\n",
      "Epoch 13/50\n",
      "448/448 [==============================] - 210s 469ms/step - loss: 1.1288 - accuracy: 0.5796 - val_loss: 1.1534 - val_accuracy: 0.5653\n",
      "Epoch 14/50\n",
      "448/448 [==============================] - 210s 469ms/step - loss: 1.1039 - accuracy: 0.5939 - val_loss: 1.1355 - val_accuracy: 0.5718\n",
      "Epoch 15/50\n",
      "448/448 [==============================] - 214s 478ms/step - loss: 1.0796 - accuracy: 0.5966 - val_loss: 1.1236 - val_accuracy: 0.5738\n",
      "Epoch 16/50\n",
      "448/448 [==============================] - 212s 473ms/step - loss: 1.0514 - accuracy: 0.6073 - val_loss: 1.1198 - val_accuracy: 0.5809\n",
      "Epoch 17/50\n",
      "448/448 [==============================] - 214s 477ms/step - loss: 1.0301 - accuracy: 0.6154 - val_loss: 1.1149 - val_accuracy: 0.5806\n",
      "Epoch 18/50\n",
      "448/448 [==============================] - 212s 472ms/step - loss: 1.0059 - accuracy: 0.6276 - val_loss: 1.1025 - val_accuracy: 0.5858\n",
      "Epoch 19/50\n",
      "448/448 [==============================] - 212s 473ms/step - loss: 0.9794 - accuracy: 0.6388 - val_loss: 1.0952 - val_accuracy: 0.5891\n",
      "Epoch 20/50\n",
      "448/448 [==============================] - 211s 470ms/step - loss: 0.9631 - accuracy: 0.6433 - val_loss: 1.0899 - val_accuracy: 0.5970\n",
      "Epoch 21/50\n",
      "448/448 [==============================] - 212s 474ms/step - loss: 0.9396 - accuracy: 0.6500 - val_loss: 1.0883 - val_accuracy: 0.6011\n",
      "Epoch 22/50\n",
      "448/448 [==============================] - 211s 471ms/step - loss: 0.9157 - accuracy: 0.6630 - val_loss: 1.0769 - val_accuracy: 0.6024\n",
      "Epoch 23/50\n",
      "448/448 [==============================] - 211s 470ms/step - loss: 0.8970 - accuracy: 0.6689 - val_loss: 1.0693 - val_accuracy: 0.6024\n",
      "Epoch 24/50\n",
      "448/448 [==============================] - 212s 472ms/step - loss: 0.8716 - accuracy: 0.6757 - val_loss: 1.0744 - val_accuracy: 0.6037\n",
      "Epoch 25/50\n",
      "448/448 [==============================] - 209s 468ms/step - loss: 0.8520 - accuracy: 0.6886 - val_loss: 1.0624 - val_accuracy: 0.6101\n",
      "Epoch 26/50\n",
      "448/448 [==============================] - 210s 468ms/step - loss: 0.8217 - accuracy: 0.6968 - val_loss: 1.0626 - val_accuracy: 0.6092\n",
      "Epoch 27/50\n",
      "448/448 [==============================] - 210s 470ms/step - loss: 0.8030 - accuracy: 0.7043 - val_loss: 1.0637 - val_accuracy: 0.6154\n",
      "Epoch 28/50\n",
      "448/448 [==============================] - 212s 473ms/step - loss: 0.7883 - accuracy: 0.7095 - val_loss: 1.0716 - val_accuracy: 0.6161\n",
      "Epoch 29/50\n",
      "448/448 [==============================] - 210s 469ms/step - loss: 0.7616 - accuracy: 0.7228 - val_loss: 1.0662 - val_accuracy: 0.6203\n",
      "Epoch 30/50\n",
      "448/448 [==============================] - 210s 469ms/step - loss: 0.7403 - accuracy: 0.7277 - val_loss: 1.0573 - val_accuracy: 0.6179\n",
      "Epoch 31/50\n",
      "448/448 [==============================] - 217s 485ms/step - loss: 0.7149 - accuracy: 0.7397 - val_loss: 1.0716 - val_accuracy: 0.6217\n",
      "Epoch 32/50\n",
      "448/448 [==============================] - 231s 515ms/step - loss: 0.6956 - accuracy: 0.7466 - val_loss: 1.0717 - val_accuracy: 0.6243\n",
      "Epoch 33/50\n",
      "448/448 [==============================] - 219s 489ms/step - loss: 0.6803 - accuracy: 0.7500 - val_loss: 1.0862 - val_accuracy: 0.6218\n",
      "Epoch 34/50\n",
      "448/448 [==============================] - 212s 474ms/step - loss: 0.6470 - accuracy: 0.7649 - val_loss: 1.0896 - val_accuracy: 0.6242\n",
      "Epoch 35/50\n",
      "448/448 [==============================] - 211s 471ms/step - loss: 0.6365 - accuracy: 0.7653 - val_loss: 1.0751 - val_accuracy: 0.6237\n",
      "Epoch 36/50\n",
      "448/448 [==============================] - 211s 470ms/step - loss: 0.6137 - accuracy: 0.7752 - val_loss: 1.0854 - val_accuracy: 0.6256\n",
      "Epoch 37/50\n",
      "448/448 [==============================] - 211s 470ms/step - loss: 0.5927 - accuracy: 0.7837 - val_loss: 1.0899 - val_accuracy: 0.6289\n",
      "Epoch 38/50\n",
      "448/448 [==============================] - 210s 469ms/step - loss: 0.5693 - accuracy: 0.7940 - val_loss: 1.0951 - val_accuracy: 0.6219\n",
      "Epoch 39/50\n",
      "448/448 [==============================] - 209s 467ms/step - loss: 0.5571 - accuracy: 0.7996 - val_loss: 1.1068 - val_accuracy: 0.6264\n",
      "Epoch 40/50\n",
      "448/448 [==============================] - 210s 469ms/step - loss: 0.5354 - accuracy: 0.8059 - val_loss: 1.1085 - val_accuracy: 0.6257\n",
      "Epoch 41/50\n",
      "448/448 [==============================] - 211s 470ms/step - loss: 0.5208 - accuracy: 0.8101 - val_loss: 1.1304 - val_accuracy: 0.6243\n",
      "Epoch 42/50\n",
      "448/448 [==============================] - 211s 471ms/step - loss: 0.5066 - accuracy: 0.8146 - val_loss: 1.1313 - val_accuracy: 0.6278\n",
      "Epoch 43/50\n",
      "448/448 [==============================] - 223s 497ms/step - loss: 0.4857 - accuracy: 0.8225 - val_loss: 1.1474 - val_accuracy: 0.6260\n",
      "Epoch 44/50\n",
      "448/448 [==============================] - 219s 489ms/step - loss: 0.4714 - accuracy: 0.8308 - val_loss: 1.1403 - val_accuracy: 0.6299\n",
      "Epoch 45/50\n",
      "448/448 [==============================] - 214s 478ms/step - loss: 0.4502 - accuracy: 0.8358 - val_loss: 1.1385 - val_accuracy: 0.6328\n",
      "Epoch 46/50\n",
      "448/448 [==============================] - 215s 479ms/step - loss: 0.4411 - accuracy: 0.8414 - val_loss: 1.1628 - val_accuracy: 0.6317\n",
      "Epoch 47/50\n",
      "448/448 [==============================] - 213s 476ms/step - loss: 0.4218 - accuracy: 0.8474 - val_loss: 1.1540 - val_accuracy: 0.6332\n",
      "Epoch 48/50\n",
      "448/448 [==============================] - 211s 470ms/step - loss: 0.4153 - accuracy: 0.8509 - val_loss: 1.1678 - val_accuracy: 0.6328\n",
      "Epoch 49/50\n",
      "448/448 [==============================] - 221s 494ms/step - loss: 0.3995 - accuracy: 0.8549 - val_loss: 1.1800 - val_accuracy: 0.6289\n",
      "Epoch 50/50\n",
      "448/448 [==============================] - 214s 478ms/step - loss: 0.3856 - accuracy: 0.8626 - val_loss: 1.1881 - val_accuracy: 0.6286\n"
     ]
    }
   ],
   "source": [
    "emotion_model_info = emotion_model.fit_generator(\n",
    "        train_generator,\n",
    "        steps_per_epoch=28709 // 64,\n",
    "        epochs=50,\n",
    "        validation_data=validation_generator,\n",
    "        validation_steps=7178 // 64)"
   ]
  },
  {
   "cell_type": "code",
   "execution_count": 13,
   "id": "41adc2a2",
   "metadata": {},
   "outputs": [
    {
     "data": {
      "image/png": "[encoded data removed]",
      "text/plain": [
       "<Figure size 432x288 with 1 Axes>"
      ]
     },
     "metadata": {
      "needs_background": "light"
     },
     "output_type": "display_data"
    },
    {
     "data": {
      "image/png": "[encoded data removed]",
      "text/plain": [
       "<Figure size 432x288 with 1 Axes>"
      ]
     },
     "metadata": {
      "needs_background": "light"
     },
     "output_type": "display_data"
    }
   ],
   "source": [
    "import matplotlib.pyplot as plt\n",
    "plt.plot(emotion_model_info.history['accuracy'])\n",
    "plt.plot(emotion_model_info.history['val_accuracy'])\n",
    "plt.title('model accuracy')\n",
    "plt.ylabel('accuracy')\n",
    "plt.xlabel('epoch')\n",
    "plt.legend(['train', 'validation'], loc='upper left')\n",
    "plt.show()\n",
    "# \"Loss\"\n",
    "plt.plot(emotion_model_info.history['loss'])\n",
    "plt.plot(emotion_model_info.history['val_loss'])\n",
    "plt.title('model loss')\n",
    "plt.ylabel('loss')\n",
    "plt.xlabel('epoch')\n",
    "plt.legend(['train', 'validation'], loc='upper left')\n",
    "plt.show()"
   ]
  },
  {
   "cell_type": "markdown",
   "id": "4d7f347b",
   "metadata": {},
   "source": [
    "# Salvando modelo gerado"
   ]
  },
  {
   "cell_type": "code",
   "execution_count": 15,
   "id": "ad0aac4f",
   "metadata": {},
   "outputs": [],
   "source": [
    "model_json = emotion_model.to_json()\n",
    "with open(\"emotion_model.json\", \"w\") as json_file:\n",
    "    json_file.write(model_json)\n",
    "\n",
    "# save trained model weight in .h5 file\n",
    "emotion_model.save_weights('emotion_model.h5')"
   ]
  },
  {
   "cell_type": "code",
   "execution_count": null,
   "id": "8336aff7",
   "metadata": {},
   "outputs": [],
   "source": []
  }
 ],
 "metadata": {
  "kernelspec": {
   "display_name": "venv",
   "language": "python",
   "name": "venv"
  },
  "language_info": {
   "codemirror_mode": {
    "name": "ipython",
    "version": 3
   },
   "file_extension": ".py",
   "mimetype": "text/x-python",
   "name": "python",
   "nbconvert_exporter": "python",
   "pygments_lexer": "ipython3",
   "version": "3.9.7"
  }
 },
 "nbformat": 4,
 "nbformat_minor": 5
}
